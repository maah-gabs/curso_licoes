{
  "nbformat": 4,
  "nbformat_minor": 0,
  "metadata": {
    "colab": {
      "name": "PythonIniciantes.youtube",
      "provenance": [],
      "authorship_tag": "ABX9TyMoHpY2VqjQM6j2xoARl6Ij",
      "include_colab_link": true
    },
    "kernelspec": {
      "name": "python3",
      "display_name": "Python 3"
    }
  },
  "cells": [
    {
      "cell_type": "markdown",
      "metadata": {
        "id": "view-in-github",
        "colab_type": "text"
      },
      "source": [
        "<a href=\"https://colab.research.google.com/github/maah-gabs/curso_licoes/blob/master/PythonIniciantes_youtube.ipynb\" target=\"_parent\"><img src=\"https://colab.research.google.com/assets/colab-badge.svg\" alt=\"Open In Colab\"/></a>"
      ]
    },
    {
      "cell_type": "markdown",
      "metadata": {
        "id": "4BSiwdIsL61R",
        "colab_type": "text"
      },
      "source": [
        "# Canal Sigmoidal Youtube\n",
        "\n",
        "Você pode ter esse e mais conteúdos no canal do *youtube* do professor Carlos Melo, o Sigmoidal [clicando aqui.](https://https://www.youtube.com/channel/UCxaCu5ht7d3jvisTpiW6vxw)\n",
        "\n",
        "## Python para Iniciantes do Zero. \n",
        "\n",
        "Neste notebook, trarei as principais discussões disponiveis na aula dada pelo professor Carlos Melo que está disponível [neste endereço](https://https://www.youtube.com/watch?v=pGtESkyGv4U) do *youtube*. \n",
        "\n",
        "Essa aula em específico é voltada para aqueles que nunca programaram ou nunca tiveram contato com a linguagem de programação Python na vida. "
      ]
    },
    {
      "cell_type": "markdown",
      "metadata": {
        "id": "1KxIs-W8oQRP",
        "colab_type": "text"
      },
      "source": [
        "## Porque Python?\n",
        "\n",
        "O python é uma das linguagens que estão em maior ascenção no mundo. Com a programação de Python é possível realizar diversas funções, sendo assim, a programação mais usada em diversas áreas, principalmente em *Data Science.*\n",
        "\n",
        "Pontos positivos para o aprendizado de Python é:\n",
        "\n",
        "* Curva de Aprendizado;\n",
        "* Demanda do Mercado;\n",
        "* Comunidade Crescente;\n",
        "* Salários em alta;\n",
        "* Biblioteca."
      ]
    },
    {
      "cell_type": "markdown",
      "metadata": {
        "id": "TTi0rfYmp6SO",
        "colab_type": "text"
      },
      "source": [
        "Nesta aula, o ambiente utilizado para programação é o ***google colab.*** Para executar as linhas do Python, você necessita apenas utilizar um SHIFT + ENTER.\n",
        "Abaixo,será demonstrado algumas funções básicas do Python, como adição, subtração, divisão, multiplicação, exponenciação e etc ..."
      ]
    },
    {
      "cell_type": "markdown",
      "metadata": {
        "id": "IcgzuQMKsjGL",
        "colab_type": "text"
      },
      "source": [
        "## Operadores Aritméticos. \n",
        "\n",
        "No python, como citado acima, você pode realizar inumeras operações, seguindo os seguintes operadores artiméticos. \n",
        "\n",
        "* Adição ( + );\n",
        "* Subtração ( - );\n",
        "* Multiplicação ( * );\n",
        "* Divisão ( / ): \n",
        "* Exponenciação ( ** );\n",
        "* Divisão ( // ) - Obter resultado inteiro;"
      ]
    },
    {
      "cell_type": "code",
      "metadata": {
        "id": "vzfYNyLUqcuX",
        "colab_type": "code",
        "colab": {
          "base_uri": "https://localhost:8080/",
          "height": 35
        },
        "outputId": "3ed0fa9d-2765-4031-be0b-6130e50931a2"
      },
      "source": [
        "# Adição\n",
        "5 + 2"
      ],
      "execution_count": null,
      "outputs": [
        {
          "output_type": "execute_result",
          "data": {
            "text/plain": [
              "7"
            ]
          },
          "metadata": {
            "tags": []
          },
          "execution_count": 1
        }
      ]
    },
    {
      "cell_type": "code",
      "metadata": {
        "id": "xn0BndaGqgFp",
        "colab_type": "code",
        "colab": {
          "base_uri": "https://localhost:8080/",
          "height": 35
        },
        "outputId": "b6721b9e-51e5-4bc1-e6e8-e35fea79cef5"
      },
      "source": [
        "# Subtração\n",
        "29 - 10"
      ],
      "execution_count": null,
      "outputs": [
        {
          "output_type": "execute_result",
          "data": {
            "text/plain": [
              "19"
            ]
          },
          "metadata": {
            "tags": []
          },
          "execution_count": 2
        }
      ]
    },
    {
      "cell_type": "code",
      "metadata": {
        "id": "5cAvnE0Pqs-L",
        "colab_type": "code",
        "colab": {
          "base_uri": "https://localhost:8080/",
          "height": 35
        },
        "outputId": "9bb4c917-a8d7-42a2-d028-b359122a8cd8"
      },
      "source": [
        "# Multiplicação\n",
        "5 * 4"
      ],
      "execution_count": null,
      "outputs": [
        {
          "output_type": "execute_result",
          "data": {
            "text/plain": [
              "20"
            ]
          },
          "metadata": {
            "tags": []
          },
          "execution_count": 3
        }
      ]
    },
    {
      "cell_type": "code",
      "metadata": {
        "id": "6LGJhk9iqu2M",
        "colab_type": "code",
        "colab": {
          "base_uri": "https://localhost:8080/",
          "height": 35
        },
        "outputId": "40c2101d-4230-4813-fb33-57531a1a6162"
      },
      "source": [
        "# Divisãp \n",
        "10/2"
      ],
      "execution_count": null,
      "outputs": [
        {
          "output_type": "execute_result",
          "data": {
            "text/plain": [
              "5.0"
            ]
          },
          "metadata": {
            "tags": []
          },
          "execution_count": 4
        }
      ]
    },
    {
      "cell_type": "code",
      "metadata": {
        "id": "lXYAmccqqwMT",
        "colab_type": "code",
        "colab": {
          "base_uri": "https://localhost:8080/",
          "height": 35
        },
        "outputId": "eb4fa7f4-18c3-488d-9ff9-79da2f38c382"
      },
      "source": [
        "# Exponenciação\n",
        "5**2"
      ],
      "execution_count": null,
      "outputs": [
        {
          "output_type": "execute_result",
          "data": {
            "text/plain": [
              "25"
            ]
          },
          "metadata": {
            "tags": []
          },
          "execution_count": 5
        }
      ]
    },
    {
      "cell_type": "code",
      "metadata": {
        "id": "6ZBdjPILq72q",
        "colab_type": "code",
        "colab": {
          "base_uri": "https://localhost:8080/",
          "height": 35
        },
        "outputId": "185ebe04-43d6-462b-b7ee-79b954bf0190"
      },
      "source": [
        "# Divisão (Resultado Inteiro)\n",
        "43//9"
      ],
      "execution_count": null,
      "outputs": [
        {
          "output_type": "execute_result",
          "data": {
            "text/plain": [
              "4"
            ]
          },
          "metadata": {
            "tags": []
          },
          "execution_count": 6
        }
      ]
    },
    {
      "cell_type": "code",
      "metadata": {
        "id": "rjfxNFcorCyj",
        "colab_type": "code",
        "colab": {
          "base_uri": "https://localhost:8080/",
          "height": 35
        },
        "outputId": "29ae62de-297b-48e5-f1c0-0571079c6b96"
      },
      "source": [
        "# Operações mais complexas. \n",
        "(5 + 6) - (1 / (8**2))"
      ],
      "execution_count": null,
      "outputs": [
        {
          "output_type": "execute_result",
          "data": {
            "text/plain": [
              "10.984375"
            ]
          },
          "metadata": {
            "tags": []
          },
          "execution_count": 7
        }
      ]
    },
    {
      "cell_type": "markdown",
      "metadata": {
        "id": "VpSe9fWau1Px",
        "colab_type": "text"
      },
      "source": [
        "## Ordem de Precedencia. \n",
        "\n",
        "Ao montar operações mais complexas no Python, é importante sabermos que assim na matemática, o python funciona em ordem de procedencia. Abaixo, colocarei um resuminho de quais funções são feitas primeiro. \n",
        "\n",
        "1.   Parenteses; \n",
        "2.   Expoentes; \n",
        "3.   Multiplicações e divisões (esquerda para direita; \n",
        "4.   Somas e Subtrações (esquerda para direita);  \n",
        "\n"
      ]
    },
    {
      "cell_type": "markdown",
      "metadata": {
        "id": "gUvPyQAVxQGW",
        "colab_type": "text"
      },
      "source": [
        "## Exemplo 01 \n",
        "\n",
        "Calcule a média simples de 3 notas de provas de Matemática. \n",
        "\n",
        "* Nota 01: 8.5\n",
        "* Nota 02: 9.5\n",
        "* Nota 03: 7.5"
      ]
    },
    {
      "cell_type": "code",
      "metadata": {
        "id": "rutkpT2NxkbY",
        "colab_type": "code",
        "colab": {
          "base_uri": "https://localhost:8080/",
          "height": 35
        },
        "outputId": "af158f9b-0678-494d-e35e-87c4450d7dbe"
      },
      "source": [
        "(8.5 + 9.5 + 7.5) / 3"
      ],
      "execution_count": null,
      "outputs": [
        {
          "output_type": "execute_result",
          "data": {
            "text/plain": [
              "8.5"
            ]
          },
          "metadata": {
            "tags": []
          },
          "execution_count": 10
        }
      ]
    },
    {
      "cell_type": "markdown",
      "metadata": {
        "id": "Fb1e6caGzf2J",
        "colab_type": "text"
      },
      "source": [
        "## Variáveis no Python\n",
        "\n",
        "Usaremos diversas, discutiremos abaixo algumas das principais variáveis. \n",
        "\n",
        "## Inteiros e Floats. \n",
        "\n",
        "Essas sem duvidas, são as que mais utilizamos. Inteiros são os numeros 2, 30, 35 esses números são denominados `int`. Já os `floats` são números que carregam uma parte fracional como 5.5, 10.2. \n",
        "\n",
        "Para saber qual o tipo de variável que você está usando, você pode fazer uso da função `type( )`. "
      ]
    },
    {
      "cell_type": "code",
      "metadata": {
        "id": "cmpju3go2b0h",
        "colab_type": "code",
        "colab": {
          "base_uri": "https://localhost:8080/",
          "height": 35
        },
        "outputId": "f813a203-2f65-4c9b-dd32-0e948c4a73ab"
      },
      "source": [
        "type(5)"
      ],
      "execution_count": null,
      "outputs": [
        {
          "output_type": "execute_result",
          "data": {
            "text/plain": [
              "int"
            ]
          },
          "metadata": {
            "tags": []
          },
          "execution_count": 11
        }
      ]
    },
    {
      "cell_type": "code",
      "metadata": {
        "id": "3LJa66iL2dF8",
        "colab_type": "code",
        "colab": {
          "base_uri": "https://localhost:8080/",
          "height": 35
        },
        "outputId": "5cad7b56-ae2d-4c3c-bbbc-d086558ae649"
      },
      "source": [
        "type(5.0000)"
      ],
      "execution_count": null,
      "outputs": [
        {
          "output_type": "execute_result",
          "data": {
            "text/plain": [
              "float"
            ]
          },
          "metadata": {
            "tags": []
          },
          "execution_count": 12
        }
      ]
    },
    {
      "cell_type": "code",
      "metadata": {
        "id": "XOrN6lz52uv6",
        "colab_type": "code",
        "colab": {
          "base_uri": "https://localhost:8080/",
          "height": 35
        },
        "outputId": "233815ed-00e7-4dab-b573-b4f517831ece"
      },
      "source": [
        "abc = 44.44\n",
        "print(type(abc))"
      ],
      "execution_count": null,
      "outputs": [
        {
          "output_type": "stream",
          "text": [
            "<class 'float'>\n"
          ],
          "name": "stdout"
        }
      ]
    },
    {
      "cell_type": "markdown",
      "metadata": {
        "id": "3F-2RqBk3J5v",
        "colab_type": "text"
      },
      "source": [
        "Desta forma, continuando a discussão sobre variáveis é possivel declarar variáveis e dar a ela valores, como no exemplo demonstrado abaixo."
      ]
    },
    {
      "cell_type": "code",
      "metadata": {
        "id": "_6vlsB704CUZ",
        "colab_type": "code",
        "colab": {
          "base_uri": "https://localhost:8080/",
          "height": 35
        },
        "outputId": "ab488455-8fee-46c5-faad-a8ba01b24d11"
      },
      "source": [
        "area_do_terreno = 57 * 10\n",
        "print(area_do_terreno)"
      ],
      "execution_count": null,
      "outputs": [
        {
          "output_type": "stream",
          "text": [
            "570\n"
          ],
          "name": "stdout"
        }
      ]
    },
    {
      "cell_type": "markdown",
      "metadata": {
        "id": "C_ZRbT4u4Y3S",
        "colab_type": "text"
      },
      "source": [
        "Saber o tipo das variáveis e extremamente importante, pois, ao programar e desenvolver programas mais complexos será necessário ter esse conhecimento e em alguns momentos ate realizar transformações para criar dados compatíveis. Uma informação importante é a de que o resultado de uma divisão sempre será `float`. "
      ]
    },
    {
      "cell_type": "code",
      "metadata": {
        "id": "aluSB4PW7G0Y",
        "colab_type": "code",
        "colab": {
          "base_uri": "https://localhost:8080/",
          "height": 72
        },
        "outputId": "18366177-0895-4318-f2b5-7a07016da1e8"
      },
      "source": [
        "print(type(2 / 2))\n",
        "print(type(10.0 / 2))\n",
        "print(type(10.0 / 2.0))"
      ],
      "execution_count": null,
      "outputs": [
        {
          "output_type": "stream",
          "text": [
            "<class 'float'>\n",
            "<class 'float'>\n",
            "<class 'float'>\n"
          ],
          "name": "stdout"
        }
      ]
    },
    {
      "cell_type": "markdown",
      "metadata": {
        "id": "npDxwFqr646H",
        "colab_type": "text"
      },
      "source": [
        "Como comentado acima, o resultado das visões acima retornatam TODAS em `float.`Quando for necessário a inversão do `float` para `inteiro` usamos a seguinte função `int ()`. O mesmo ocorre quando a vontade for fazer a inversão o contrário. "
      ]
    },
    {
      "cell_type": "code",
      "metadata": {
        "id": "Z01sAYmm7jt9",
        "colab_type": "code",
        "colab": {
          "base_uri": "https://localhost:8080/",
          "height": 35
        },
        "outputId": "e633fc24-512d-4c0d-f4fc-b418a7e5d394"
      },
      "source": [
        "idade = 27.00\n",
        "type(idade)"
      ],
      "execution_count": null,
      "outputs": [
        {
          "output_type": "execute_result",
          "data": {
            "text/plain": [
              "float"
            ]
          },
          "metadata": {
            "tags": []
          },
          "execution_count": 1
        }
      ]
    },
    {
      "cell_type": "code",
      "metadata": {
        "id": "Sd2P44l77mjw",
        "colab_type": "code",
        "colab": {
          "base_uri": "https://localhost:8080/",
          "height": 35
        },
        "outputId": "596883b9-336c-42e2-ab33-b54f5975dd04"
      },
      "source": [
        "# Converter \n",
        "idade = int(idade)\n",
        "type(idade)"
      ],
      "execution_count": null,
      "outputs": [
        {
          "output_type": "execute_result",
          "data": {
            "text/plain": [
              "int"
            ]
          },
          "metadata": {
            "tags": []
          },
          "execution_count": 2
        }
      ]
    },
    {
      "cell_type": "code",
      "metadata": {
        "id": "E8l8tN5k7vU7",
        "colab_type": "code",
        "colab": {
          "base_uri": "https://localhost:8080/",
          "height": 35
        },
        "outputId": "ea875aa5-818e-4f2e-828d-db9d54312bd5"
      },
      "source": [
        "int(3.14585)"
      ],
      "execution_count": null,
      "outputs": [
        {
          "output_type": "execute_result",
          "data": {
            "text/plain": [
              "3"
            ]
          },
          "metadata": {
            "tags": []
          },
          "execution_count": 3
        }
      ]
    },
    {
      "cell_type": "markdown",
      "metadata": {
        "id": "LBhyOaZC799r",
        "colab_type": "text"
      },
      "source": [
        "**OBS:** Importante perceber que ao transformar um numero `float` em `int` o pythin retorna apenas os numéros que estão antes do ponto, certo? Ou seja, isso quer dizer que o python, ao utilizar essa função **NÃO** retornará o valor arredondado. "
      ]
    },
    {
      "cell_type": "code",
      "metadata": {
        "id": "IafBYv8V8zEk",
        "colab_type": "code",
        "colab": {
          "base_uri": "https://localhost:8080/",
          "height": 35
        },
        "outputId": "6c3be6cd-cd5d-4efa-fc1b-c20e14b5cb53"
      },
      "source": [
        "#O contrário também acontece \n",
        "float(3)"
      ],
      "execution_count": null,
      "outputs": [
        {
          "output_type": "execute_result",
          "data": {
            "text/plain": [
              "3.0"
            ]
          },
          "metadata": {
            "tags": []
          },
          "execution_count": 4
        }
      ]
    },
    {
      "cell_type": "markdown",
      "metadata": {
        "id": "o4_M5Zr8-v4f",
        "colab_type": "text"
      },
      "source": [
        "Como comentamos acima, existe a possibilidade de se reailzar uma divisão em que ficamos apenas com a parte inteira do número, descartando assim, toda a parte fracionada. Utilizando o `//`."
      ]
    },
    {
      "cell_type": "code",
      "metadata": {
        "id": "dfkBIsIu_ddi",
        "colab_type": "code",
        "colab": {
          "base_uri": "https://localhost:8080/",
          "height": 54
        },
        "outputId": "52028db8-e5f7-40b4-dcb0-cf0667844711"
      },
      "source": [
        "print(11 / 3)\n",
        "print(11 // 3)"
      ],
      "execution_count": null,
      "outputs": [
        {
          "output_type": "stream",
          "text": [
            "3.6666666666666665\n",
            "3\n"
          ],
          "name": "stdout"
        }
      ]
    },
    {
      "cell_type": "markdown",
      "metadata": {
        "id": "Pp7p2tFBAG9w",
        "colab_type": "text"
      },
      "source": [
        "## String\n",
        "\n",
        "Variável não numérica. Porém, tambem são considerados str qualquer informação de uma variável que esteja entre aspas `( ' ' )` ou `( \" \" )`. "
      ]
    },
    {
      "cell_type": "code",
      "metadata": {
        "id": "z-hmT-SbAREz",
        "colab_type": "code",
        "colab": {
          "base_uri": "https://localhost:8080/",
          "height": 35
        },
        "outputId": "738e0e80-0923-4773-8c28-18ba45baf4dd"
      },
      "source": [
        "type(\"Maria Gabriela\")"
      ],
      "execution_count": null,
      "outputs": [
        {
          "output_type": "execute_result",
          "data": {
            "text/plain": [
              "str"
            ]
          },
          "metadata": {
            "tags": []
          },
          "execution_count": 6
        }
      ]
    },
    {
      "cell_type": "code",
      "metadata": {
        "id": "00Cqpj-5ATq7",
        "colab_type": "code",
        "colab": {
          "base_uri": "https://localhost:8080/",
          "height": 35
        },
        "outputId": "3b511745-4981-4415-8816-2d6b1859d5df"
      },
      "source": [
        "type('4.444')"
      ],
      "execution_count": null,
      "outputs": [
        {
          "output_type": "execute_result",
          "data": {
            "text/plain": [
              "str"
            ]
          },
          "metadata": {
            "tags": []
          },
          "execution_count": 7
        }
      ]
    },
    {
      "cell_type": "code",
      "metadata": {
        "id": "cWpP-2-NAsSz",
        "colab_type": "code",
        "colab": {}
      },
      "source": [
        "nome = \"Maria Gabriela\"\n",
        "sobrenome = \"Furlaneto Barros\"\n",
        "profissao = \"Enfermeira\""
      ],
      "execution_count": null,
      "outputs": []
    },
    {
      "cell_type": "code",
      "metadata": {
        "id": "78vt81hUBCgr",
        "colab_type": "code",
        "colab": {
          "base_uri": "https://localhost:8080/",
          "height": 54
        },
        "outputId": "c70ad857-a3a7-4345-e967-c3ab943c74c4"
      },
      "source": [
        "print(\"Nome Completo:\" )\n",
        "print(nome, sobrenome)\n"
      ],
      "execution_count": null,
      "outputs": [
        {
          "output_type": "stream",
          "text": [
            "Nome Completo:\n",
            "Maria Gabriela Furlaneto Barros\n"
          ],
          "name": "stdout"
        }
      ]
    },
    {
      "cell_type": "code",
      "metadata": {
        "id": "gkGznKWMBPTa",
        "colab_type": "code",
        "colab": {
          "base_uri": "https://localhost:8080/",
          "height": 54
        },
        "outputId": "3950aa79-90ea-4815-a8b6-700057eadb59"
      },
      "source": [
        "print(\"Minha profissão é:\")\n",
        "print(profissao)"
      ],
      "execution_count": null,
      "outputs": [
        {
          "output_type": "stream",
          "text": [
            "Minha profissão é:\n",
            "Enfermeira\n"
          ],
          "name": "stdout"
        }
      ]
    },
    {
      "cell_type": "markdown",
      "metadata": {
        "id": "7HrTt4S1Bk1H",
        "colab_type": "text"
      },
      "source": [
        "Manipulado `strings` é possível você acessar caracteres em específico de uma string, lembre - se que sempre começamos pelo 0, ou seja, **o exemplo Maria Gabriela a letra M está na posição 0.**\n",
        "\n",
        "OBS: **DICA IMPORTANTE** se você tem uma `string` muito grande e você quer acessar o último caractere, é só usar a posição `(-1)`."
      ]
    },
    {
      "cell_type": "code",
      "metadata": {
        "id": "9Qx6lTkNCAU8",
        "colab_type": "code",
        "colab": {
          "base_uri": "https://localhost:8080/",
          "height": 109
        },
        "outputId": "1a38124e-5c30-4cd9-bdaa-f86255af90ac"
      },
      "source": [
        "print(nome[0])\n",
        "print(nome[1])\n",
        "print(nome[2])\n",
        "print(nome[3])\n",
        "print(nome[4])"
      ],
      "execution_count": null,
      "outputs": [
        {
          "output_type": "stream",
          "text": [
            "M\n",
            "a\n",
            "r\n",
            "i\n",
            "a\n"
          ],
          "name": "stdout"
        }
      ]
    },
    {
      "cell_type": "code",
      "metadata": {
        "id": "DRsfLS0qCHHK",
        "colab_type": "code",
        "colab": {
          "base_uri": "https://localhost:8080/",
          "height": 164
        },
        "outputId": "1f275b05-4a1b-4843-8166-456978bf2b51"
      },
      "source": [
        "print(nome[-1])\n",
        "print(nome[-2])\n",
        "print(nome[-3])\n",
        "print(nome[-4])\n",
        "print(nome[-5])\n",
        "print(nome[-6])\n",
        "print(nome[-7])\n",
        "print(nome[-8])"
      ],
      "execution_count": null,
      "outputs": [
        {
          "output_type": "stream",
          "text": [
            "a\n",
            "l\n",
            "e\n",
            "i\n",
            "r\n",
            "b\n",
            "a\n",
            "G\n"
          ],
          "name": "stdout"
        }
      ]
    },
    {
      "cell_type": "code",
      "metadata": {
        "id": "Ywja4B1XDcRn",
        "colab_type": "code",
        "colab": {
          "base_uri": "https://localhost:8080/",
          "height": 72
        },
        "outputId": "eb5195b7-324c-453b-c3d5-f24e82f068eb"
      },
      "source": [
        "# Quero ver as duas primeiras variáveis\n",
        "print(nome[0:2])\n",
        "print(nome[2:5])\n",
        "print(nome[0:2] + nome[2:5])"
      ],
      "execution_count": null,
      "outputs": [
        {
          "output_type": "stream",
          "text": [
            "Ma\n",
            "ria\n",
            "Maria\n"
          ],
          "name": "stdout"
        }
      ]
    },
    {
      "cell_type": "markdown",
      "metadata": {
        "id": "Fi_AOQmjD5bo",
        "colab_type": "text"
      },
      "source": [
        "## Função `len`\n",
        "\n",
        "Para saber o tamanho de uma `string`, podemos utilizar uma função denominada   `len ()`. Para utiliza - lá é muito simples. "
      ]
    },
    {
      "cell_type": "code",
      "metadata": {
        "id": "TOEqay7TEnHG",
        "colab_type": "code",
        "colab": {
          "base_uri": "https://localhost:8080/",
          "height": 35
        },
        "outputId": "8991d68f-b035-47bf-b122-ec68169b895e"
      },
      "source": [
        "dna = 'ABCFJEGSJYG'\n",
        "print(\"Tamanho da String\", len(dna))"
      ],
      "execution_count": null,
      "outputs": [
        {
          "output_type": "stream",
          "text": [
            "Tamanho da String 11\n"
          ],
          "name": "stdout"
        }
      ]
    },
    {
      "cell_type": "markdown",
      "metadata": {
        "id": "LkcmfshGFCnr",
        "colab_type": "text"
      },
      "source": [
        "## Função `split`\n",
        "\n",
        "Essa função serve para separar as `strings` se baseando em um delimitador. Por exemplo, quando uma variável apresenta 3 nomes separados por vírgulas. Para eu realizar uma extração desses nomes, basta executar a função `.split()` que o Python retornará uma lista com 3 itens. Vamos ver um exemplo?"
      ]
    },
    {
      "cell_type": "code",
      "metadata": {
        "id": "I5g4J8pvF55l",
        "colab_type": "code",
        "colab": {
          "base_uri": "https://localhost:8080/",
          "height": 35
        },
        "outputId": "5b7ab085-0c3a-4b1f-e197-a60220f96a2d"
      },
      "source": [
        "nomes = \"Maria Gabriela, Samuel, Vitória\"\n",
        "print(nomes)"
      ],
      "execution_count": null,
      "outputs": [
        {
          "output_type": "stream",
          "text": [
            "Maria Gabriela, Samuel, Vitória\n"
          ],
          "name": "stdout"
        }
      ]
    },
    {
      "cell_type": "code",
      "metadata": {
        "id": "eDjoLDjfF_0i",
        "colab_type": "code",
        "colab": {
          "base_uri": "https://localhost:8080/",
          "height": 35
        },
        "outputId": "882fadd4-8855-4120-ba3a-63db3f64ba30"
      },
      "source": [
        "nomes.split(',')"
      ],
      "execution_count": null,
      "outputs": [
        {
          "output_type": "execute_result",
          "data": {
            "text/plain": [
              "['Maria Gabriela', ' Samuel', ' Vitória']"
            ]
          },
          "metadata": {
            "tags": []
          },
          "execution_count": 27
        }
      ]
    },
    {
      "cell_type": "markdown",
      "metadata": {
        "id": "1MeYnliAGL1w",
        "colab_type": "text"
      },
      "source": [
        "Perceba acima, que no caso, o delimitador é (' , ') a vírgula, certo? e ao executar a linha do código ele retornou uma lista com os nomes individuais. \n",
        "\n",
        "No exmplo abaixo, como o função `.split( )` transformou os tres nomes em uma lista, abaixo mostramos um exemplo de como os itens dessa lista podem ser acessados. Lembrando que a indexação do python SEMPRE inicia no zero. "
      ]
    },
    {
      "cell_type": "code",
      "metadata": {
        "id": "12IyFhZrGmg-",
        "colab_type": "code",
        "colab": {
          "base_uri": "https://localhost:8080/",
          "height": 72
        },
        "outputId": "f71bfa31-6631-4ac6-8f46-873ce78f7cf1"
      },
      "source": [
        "list_de_nomes = nomes.split(',')\n",
        "print(list_de_nomes[0])\n",
        "print(list_de_nomes[1])\n",
        "print(list_de_nomes[2])"
      ],
      "execution_count": null,
      "outputs": [
        {
          "output_type": "stream",
          "text": [
            "Maria Gabriela\n",
            " Samuel\n",
            " Vitória\n"
          ],
          "name": "stdout"
        }
      ]
    },
    {
      "cell_type": "markdown",
      "metadata": {
        "id": "jFHPFaAPRfSa",
        "colab_type": "text"
      },
      "source": [
        "## Função `replace ( ) `.\n",
        "\n",
        "Essa função é utilizada para substituir caracteres que estão dentro de uma `string`. \n",
        "\n",
        "Para imaginar um dos usos em que essa função pode se encaixar, imagine você mexendo com dados que estão no sistema monetário brasileiro que utiliza ( , ) ao invés do ponto ( . ) como aprendemos que o python reconhece. Vamos precisar substituir, não é mesmo? "
      ]
    },
    {
      "cell_type": "code",
      "metadata": {
        "id": "l1D3_9HaSyRn",
        "colab_type": "code",
        "colab": {}
      },
      "source": [
        "# Variável criada como str porém com vírgula. \n",
        "preco = \"9,50\"\n",
        "preco2 = \"10,90\""
      ],
      "execution_count": null,
      "outputs": []
    },
    {
      "cell_type": "code",
      "metadata": {
        "id": "sRy2i0fQS7tp",
        "colab_type": "code",
        "colab": {
          "base_uri": "https://localhost:8080/",
          "height": 36
        },
        "outputId": "cb1f947b-c629-44fa-fc98-60d7ff628a7b"
      },
      "source": [
        "\"9,50\".replace(\",\", \".\")"
      ],
      "execution_count": null,
      "outputs": [
        {
          "output_type": "execute_result",
          "data": {
            "application/vnd.google.colaboratory.intrinsic+json": {
              "type": "string"
            },
            "text/plain": [
              "'9.50'"
            ]
          },
          "metadata": {
            "tags": []
          },
          "execution_count": 30
        }
      ]
    },
    {
      "cell_type": "code",
      "metadata": {
        "id": "QnQxhY7JTOPb",
        "colab_type": "code",
        "colab": {
          "base_uri": "https://localhost:8080/",
          "height": 36
        },
        "outputId": "e2a2e7a8-1aff-4abe-aaf3-98af84574671"
      },
      "source": [
        "preco2.replace(\",\", \".\")"
      ],
      "execution_count": null,
      "outputs": [
        {
          "output_type": "execute_result",
          "data": {
            "application/vnd.google.colaboratory.intrinsic+json": {
              "type": "string"
            },
            "text/plain": [
              "'10.90'"
            ]
          },
          "metadata": {
            "tags": []
          },
          "execution_count": 32
        }
      ]
    },
    {
      "cell_type": "markdown",
      "metadata": {
        "id": "CZet-txETx_8",
        "colab_type": "text"
      },
      "source": [
        "## Função `Strip ( )`. \n",
        "\n",
        "Esta função é capaz de remover os espaços me branco. Para realizar conversões númericas, ao analisar o banco de dados e perceber que, principalmente, em informações com número existem espaços que devem ser excluidos para que trabalhos mais especificos sejam realizados. \n",
        "Esses espaços em branco podem estar presentes no começo e no final de uma string. Para remover esses caracteres indesejados, vamos usar a função `split( )`. "
      ]
    },
    {
      "cell_type": "code",
      "metadata": {
        "id": "fTBsEyhEWMQc",
        "colab_type": "code",
        "colab": {
          "base_uri": "https://localhost:8080/",
          "height": 36
        },
        "outputId": "55f8b7ec-d333-4fc6-e208-b5e261e08941"
      },
      "source": [
        "nome = \"    Maria Gabriela   \"\n",
        "nome.strip( )"
      ],
      "execution_count": 1,
      "outputs": [
        {
          "output_type": "execute_result",
          "data": {
            "application/vnd.google.colaboratory.intrinsic+json": {
              "type": "string"
            },
            "text/plain": [
              "'Maria Gabriela'"
            ]
          },
          "metadata": {
            "tags": []
          },
          "execution_count": 1
        }
      ]
    },
    {
      "cell_type": "markdown",
      "metadata": {
        "id": "_4QGE49bXRhA",
        "colab_type": "text"
      },
      "source": [
        "No exemplo abaixo, também utilizaremos a função `replace ( ) ` que já foi discutida acima, nele nós usaremos o dado R$ 9,50 que é um dado inconversível, certo? para tornar um float, nele utilizaremos o `strip ( )` e o `replace ( )` e depois converteremos para `float.`"
      ]
    },
    {
      "cell_type": "code",
      "metadata": {
        "id": "KJ3nbZ4RWY7v",
        "colab_type": "code",
        "colab": {
          "base_uri": "https://localhost:8080/",
          "height": 35
        },
        "outputId": "83499a09-e64e-4bfb-e4d5-38c2b18a5b24"
      },
      "source": [
        "float(\"R$ 9,50\".strip('R$ ').replace(',', '.'))"
      ],
      "execution_count": 4,
      "outputs": [
        {
          "output_type": "execute_result",
          "data": {
            "text/plain": [
              "9.5"
            ]
          },
          "metadata": {
            "tags": []
          },
          "execution_count": 4
        }
      ]
    }
  ]
}